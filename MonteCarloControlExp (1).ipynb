{
 "cells": [
  {
   "cell_type": "code",
   "execution_count": 1,
   "metadata": {
    "colab": {
     "base_uri": "https://localhost:8080/"
    },
    "id": "bkWQpuegqp--",
    "outputId": "9e9ef6e8-80a9-49d9-c660-bc53c5eec506"
   },
   "outputs": [
    {
     "name": "stdout",
     "output_type": "stream",
     "text": [
      "Collecting gym-walk\n",
      "  Cloning https://github.com/mimoralea/gym-walk to c:\\users\\sec\\appdata\\local\\temp\\pip-install-da7eqfd4\\gym-walk_020a6f549f7841f49f6dc878f20eeea4\n",
      "  Resolved https://github.com/mimoralea/gym-walk to commit b915b94cf2ad16f8833a1ad92ea94e88159279f5\n",
      "  Preparing metadata (setup.py): started\n",
      "  Preparing metadata (setup.py): finished with status 'done'\n",
      "Requirement already satisfied: gym in c:\\users\\sec\\anaconda3\\lib\\site-packages (from gym-walk) (0.26.2)\n",
      "Requirement already satisfied: numpy>=1.18.0 in c:\\users\\sec\\anaconda3\\lib\\site-packages (from gym->gym-walk) (1.26.4)\n",
      "Requirement already satisfied: cloudpickle>=1.2.0 in c:\\users\\sec\\anaconda3\\lib\\site-packages (from gym->gym-walk) (3.0.0)\n",
      "Requirement already satisfied: gym_notices>=0.0.4 in c:\\users\\sec\\anaconda3\\lib\\site-packages (from gym->gym-walk) (0.0.8)\n",
      "Note: you may need to restart the kernel to use updated packages.\n"
     ]
    },
    {
     "name": "stderr",
     "output_type": "stream",
     "text": [
      "  Running command git clone --filter=blob:none --quiet https://github.com/mimoralea/gym-walk 'C:\\Users\\SEC\\AppData\\Local\\Temp\\pip-install-da7eqfd4\\gym-walk_020a6f549f7841f49f6dc878f20eeea4'\n"
     ]
    }
   ],
   "source": [
    "pip install git+https://github.com/mimoralea/gym-walk#egg=gym-walk"
   ]
  },
  {
   "cell_type": "code",
   "execution_count": 36,
   "metadata": {
    "id": "-_fscA7aqfqq"
   },
   "outputs": [],
   "source": [
    "\n",
    "import warnings ; warnings.filterwarnings('ignore')\n",
    "\n",
    "import gym, gym_walk\n",
    "import numpy as np\n",
    "\n",
    "import random\n",
    "import warnings\n",
    "\n",
    "warnings.filterwarnings('ignore', category=DeprecationWarning)\n",
    "np.set_printoptions(suppress=True)\n",
    "random.seed(123); np.random.seed(123)"
   ]
  },
  {
   "cell_type": "code",
   "execution_count": 37,
   "metadata": {
    "id": "odKHmp8j98c3"
   },
   "outputs": [],
   "source": [
    "from itertools import count\n",
    "from tqdm import tqdm"
   ]
  },
  {
   "cell_type": "code",
   "execution_count": 38,
   "metadata": {
    "id": "eBMNYj75qrxb"
   },
   "outputs": [],
   "source": [
    "\n",
    "def print_policy(pi, P, action_symbols=('<', 'v', '>', '^'), n_cols=4, title='Policy:'):\n",
    "    print(title)\n",
    "    arrs = {k:v for k,v in enumerate(action_symbols)}\n",
    "    for s in range(len(P)):\n",
    "        a = pi[s]\n",
    "        print(\"| \", end=\"\")\n",
    "        if np.all([done for action in P[s].values() for _, _, _, done in action]):\n",
    "            print(\"\".rjust(9), end=\" \")\n",
    "        else:\n",
    "            print(str(s).zfill(2), arrs[a].rjust(6), end=\" \")\n",
    "        if (s + 1) % n_cols == 0: print(\"|\")"
   ]
  },
  {
   "cell_type": "code",
   "execution_count": 39,
   "metadata": {
    "id": "zJf8AbfIqtty"
   },
   "outputs": [],
   "source": [
    "\n",
    "def print_state_value_function(V, P, n_cols=4, prec=3, title='State-value function:'):\n",
    "    print(title)\n",
    "    for s in range(len(P)):\n",
    "        v = V[s]\n",
    "        print(\"| \", end=\"\")\n",
    "        if np.all([done for action in P[s].values() for _, _, _, done in action]):\n",
    "            print(\"\".rjust(9), end=\" \")\n",
    "        else:\n",
    "            print(str(s).zfill(2), '{}'.format(np.round(v, prec)).rjust(6), end=\" \")\n",
    "        if (s + 1) % n_cols == 0: print(\"|\")"
   ]
  },
  {
   "cell_type": "code",
   "execution_count": 40,
   "metadata": {
    "id": "6pUxH_IN5eVM"
   },
   "outputs": [],
   "source": [
    "def probability_success(env, pi, goal_state=15, n_episodes=100, max_steps=200):\n",
    "    np.random.seed(123)\n",
    "    results = []\n",
    "\n",
    "    for _ in range(n_episodes):\n",
    "        state, _ = env.reset(seed=123)  # Correct seeding method\n",
    "        for _ in range(max_steps):\n",
    "            action = pi[state]\n",
    "            state, _, terminated, truncated, _ = env.step(action)\n",
    "            if state == goal_state:\n",
    "                results.append(1)\n",
    "                break\n",
    "            if terminated or truncated:\n",
    "                results.append(0)\n",
    "                break\n",
    "    return np.mean(results)\n"
   ]
  },
  {
   "cell_type": "code",
   "execution_count": 41,
   "metadata": {
    "id": "e5BB7HUk5gQ3"
   },
   "outputs": [],
   "source": [
    "def mean_return(env, pi, n_episodes=100, max_steps=200):\n",
    "    np.random.seed(123)\n",
    "    returns = []\n",
    "\n",
    "    for _ in range(n_episodes):\n",
    "        state, _ = env.reset(seed=123)\n",
    "        total_reward = 0\n",
    "        for _ in range(max_steps):\n",
    "            action = pi[state]\n",
    "            state, reward, terminated, truncated, _ = env.step(action)\n",
    "            total_reward += reward\n",
    "            if terminated or truncated:\n",
    "                break\n",
    "        returns.append(total_reward)\n",
    "    return np.mean(returns)\n"
   ]
  },
  {
   "cell_type": "code",
   "execution_count": 42,
   "metadata": {
    "id": "YNnfvjQJ5iOm"
   },
   "outputs": [],
   "source": [
    "\n",
    "env = gym.make('FrozenLake-v1')\n",
    "P = env.env.P\n",
    "init_state = env.reset()\n",
    "goal_state = 15\n",
    "#LEFT, RIGHT = range(2)"
   ]
  },
  {
   "cell_type": "code",
   "execution_count": 43,
   "metadata": {
    "colab": {
     "base_uri": "https://localhost:8080/"
    },
    "id": "ITyiwCBM5kAW",
    "outputId": "b9ff73d8-1d06-435e-e0c2-59af1920cc83"
   },
   "outputs": [
    {
     "data": {
      "text/plain": [
       "{0: {0: [(0.3333333333333333, 0, 0.0, False),\n",
       "   (0.3333333333333333, 0, 0.0, False),\n",
       "   (0.3333333333333333, 4, 0.0, False)],\n",
       "  1: [(0.3333333333333333, 0, 0.0, False),\n",
       "   (0.3333333333333333, 4, 0.0, False),\n",
       "   (0.3333333333333333, 1, 0.0, False)],\n",
       "  2: [(0.3333333333333333, 4, 0.0, False),\n",
       "   (0.3333333333333333, 1, 0.0, False),\n",
       "   (0.3333333333333333, 0, 0.0, False)],\n",
       "  3: [(0.3333333333333333, 1, 0.0, False),\n",
       "   (0.3333333333333333, 0, 0.0, False),\n",
       "   (0.3333333333333333, 0, 0.0, False)]},\n",
       " 1: {0: [(0.3333333333333333, 1, 0.0, False),\n",
       "   (0.3333333333333333, 0, 0.0, False),\n",
       "   (0.3333333333333333, 5, 0.0, True)],\n",
       "  1: [(0.3333333333333333, 0, 0.0, False),\n",
       "   (0.3333333333333333, 5, 0.0, True),\n",
       "   (0.3333333333333333, 2, 0.0, False)],\n",
       "  2: [(0.3333333333333333, 5, 0.0, True),\n",
       "   (0.3333333333333333, 2, 0.0, False),\n",
       "   (0.3333333333333333, 1, 0.0, False)],\n",
       "  3: [(0.3333333333333333, 2, 0.0, False),\n",
       "   (0.3333333333333333, 1, 0.0, False),\n",
       "   (0.3333333333333333, 0, 0.0, False)]},\n",
       " 2: {0: [(0.3333333333333333, 2, 0.0, False),\n",
       "   (0.3333333333333333, 1, 0.0, False),\n",
       "   (0.3333333333333333, 6, 0.0, False)],\n",
       "  1: [(0.3333333333333333, 1, 0.0, False),\n",
       "   (0.3333333333333333, 6, 0.0, False),\n",
       "   (0.3333333333333333, 3, 0.0, False)],\n",
       "  2: [(0.3333333333333333, 6, 0.0, False),\n",
       "   (0.3333333333333333, 3, 0.0, False),\n",
       "   (0.3333333333333333, 2, 0.0, False)],\n",
       "  3: [(0.3333333333333333, 3, 0.0, False),\n",
       "   (0.3333333333333333, 2, 0.0, False),\n",
       "   (0.3333333333333333, 1, 0.0, False)]},\n",
       " 3: {0: [(0.3333333333333333, 3, 0.0, False),\n",
       "   (0.3333333333333333, 2, 0.0, False),\n",
       "   (0.3333333333333333, 7, 0.0, True)],\n",
       "  1: [(0.3333333333333333, 2, 0.0, False),\n",
       "   (0.3333333333333333, 7, 0.0, True),\n",
       "   (0.3333333333333333, 3, 0.0, False)],\n",
       "  2: [(0.3333333333333333, 7, 0.0, True),\n",
       "   (0.3333333333333333, 3, 0.0, False),\n",
       "   (0.3333333333333333, 3, 0.0, False)],\n",
       "  3: [(0.3333333333333333, 3, 0.0, False),\n",
       "   (0.3333333333333333, 3, 0.0, False),\n",
       "   (0.3333333333333333, 2, 0.0, False)]},\n",
       " 4: {0: [(0.3333333333333333, 0, 0.0, False),\n",
       "   (0.3333333333333333, 4, 0.0, False),\n",
       "   (0.3333333333333333, 8, 0.0, False)],\n",
       "  1: [(0.3333333333333333, 4, 0.0, False),\n",
       "   (0.3333333333333333, 8, 0.0, False),\n",
       "   (0.3333333333333333, 5, 0.0, True)],\n",
       "  2: [(0.3333333333333333, 8, 0.0, False),\n",
       "   (0.3333333333333333, 5, 0.0, True),\n",
       "   (0.3333333333333333, 0, 0.0, False)],\n",
       "  3: [(0.3333333333333333, 5, 0.0, True),\n",
       "   (0.3333333333333333, 0, 0.0, False),\n",
       "   (0.3333333333333333, 4, 0.0, False)]},\n",
       " 5: {0: [(1.0, 5, 0, True)],\n",
       "  1: [(1.0, 5, 0, True)],\n",
       "  2: [(1.0, 5, 0, True)],\n",
       "  3: [(1.0, 5, 0, True)]},\n",
       " 6: {0: [(0.3333333333333333, 2, 0.0, False),\n",
       "   (0.3333333333333333, 5, 0.0, True),\n",
       "   (0.3333333333333333, 10, 0.0, False)],\n",
       "  1: [(0.3333333333333333, 5, 0.0, True),\n",
       "   (0.3333333333333333, 10, 0.0, False),\n",
       "   (0.3333333333333333, 7, 0.0, True)],\n",
       "  2: [(0.3333333333333333, 10, 0.0, False),\n",
       "   (0.3333333333333333, 7, 0.0, True),\n",
       "   (0.3333333333333333, 2, 0.0, False)],\n",
       "  3: [(0.3333333333333333, 7, 0.0, True),\n",
       "   (0.3333333333333333, 2, 0.0, False),\n",
       "   (0.3333333333333333, 5, 0.0, True)]},\n",
       " 7: {0: [(1.0, 7, 0, True)],\n",
       "  1: [(1.0, 7, 0, True)],\n",
       "  2: [(1.0, 7, 0, True)],\n",
       "  3: [(1.0, 7, 0, True)]},\n",
       " 8: {0: [(0.3333333333333333, 4, 0.0, False),\n",
       "   (0.3333333333333333, 8, 0.0, False),\n",
       "   (0.3333333333333333, 12, 0.0, True)],\n",
       "  1: [(0.3333333333333333, 8, 0.0, False),\n",
       "   (0.3333333333333333, 12, 0.0, True),\n",
       "   (0.3333333333333333, 9, 0.0, False)],\n",
       "  2: [(0.3333333333333333, 12, 0.0, True),\n",
       "   (0.3333333333333333, 9, 0.0, False),\n",
       "   (0.3333333333333333, 4, 0.0, False)],\n",
       "  3: [(0.3333333333333333, 9, 0.0, False),\n",
       "   (0.3333333333333333, 4, 0.0, False),\n",
       "   (0.3333333333333333, 8, 0.0, False)]},\n",
       " 9: {0: [(0.3333333333333333, 5, 0.0, True),\n",
       "   (0.3333333333333333, 8, 0.0, False),\n",
       "   (0.3333333333333333, 13, 0.0, False)],\n",
       "  1: [(0.3333333333333333, 8, 0.0, False),\n",
       "   (0.3333333333333333, 13, 0.0, False),\n",
       "   (0.3333333333333333, 10, 0.0, False)],\n",
       "  2: [(0.3333333333333333, 13, 0.0, False),\n",
       "   (0.3333333333333333, 10, 0.0, False),\n",
       "   (0.3333333333333333, 5, 0.0, True)],\n",
       "  3: [(0.3333333333333333, 10, 0.0, False),\n",
       "   (0.3333333333333333, 5, 0.0, True),\n",
       "   (0.3333333333333333, 8, 0.0, False)]},\n",
       " 10: {0: [(0.3333333333333333, 6, 0.0, False),\n",
       "   (0.3333333333333333, 9, 0.0, False),\n",
       "   (0.3333333333333333, 14, 0.0, False)],\n",
       "  1: [(0.3333333333333333, 9, 0.0, False),\n",
       "   (0.3333333333333333, 14, 0.0, False),\n",
       "   (0.3333333333333333, 11, 0.0, True)],\n",
       "  2: [(0.3333333333333333, 14, 0.0, False),\n",
       "   (0.3333333333333333, 11, 0.0, True),\n",
       "   (0.3333333333333333, 6, 0.0, False)],\n",
       "  3: [(0.3333333333333333, 11, 0.0, True),\n",
       "   (0.3333333333333333, 6, 0.0, False),\n",
       "   (0.3333333333333333, 9, 0.0, False)]},\n",
       " 11: {0: [(1.0, 11, 0, True)],\n",
       "  1: [(1.0, 11, 0, True)],\n",
       "  2: [(1.0, 11, 0, True)],\n",
       "  3: [(1.0, 11, 0, True)]},\n",
       " 12: {0: [(1.0, 12, 0, True)],\n",
       "  1: [(1.0, 12, 0, True)],\n",
       "  2: [(1.0, 12, 0, True)],\n",
       "  3: [(1.0, 12, 0, True)]},\n",
       " 13: {0: [(0.3333333333333333, 9, 0.0, False),\n",
       "   (0.3333333333333333, 12, 0.0, True),\n",
       "   (0.3333333333333333, 13, 0.0, False)],\n",
       "  1: [(0.3333333333333333, 12, 0.0, True),\n",
       "   (0.3333333333333333, 13, 0.0, False),\n",
       "   (0.3333333333333333, 14, 0.0, False)],\n",
       "  2: [(0.3333333333333333, 13, 0.0, False),\n",
       "   (0.3333333333333333, 14, 0.0, False),\n",
       "   (0.3333333333333333, 9, 0.0, False)],\n",
       "  3: [(0.3333333333333333, 14, 0.0, False),\n",
       "   (0.3333333333333333, 9, 0.0, False),\n",
       "   (0.3333333333333333, 12, 0.0, True)]},\n",
       " 14: {0: [(0.3333333333333333, 10, 0.0, False),\n",
       "   (0.3333333333333333, 13, 0.0, False),\n",
       "   (0.3333333333333333, 14, 0.0, False)],\n",
       "  1: [(0.3333333333333333, 13, 0.0, False),\n",
       "   (0.3333333333333333, 14, 0.0, False),\n",
       "   (0.3333333333333333, 15, 1.0, True)],\n",
       "  2: [(0.3333333333333333, 14, 0.0, False),\n",
       "   (0.3333333333333333, 15, 1.0, True),\n",
       "   (0.3333333333333333, 10, 0.0, False)],\n",
       "  3: [(0.3333333333333333, 15, 1.0, True),\n",
       "   (0.3333333333333333, 10, 0.0, False),\n",
       "   (0.3333333333333333, 13, 0.0, False)]},\n",
       " 15: {0: [(1.0, 15, 0, True)],\n",
       "  1: [(1.0, 15, 0, True)],\n",
       "  2: [(1.0, 15, 0, True)],\n",
       "  3: [(1.0, 15, 0, True)]}}"
      ]
     },
     "execution_count": 43,
     "metadata": {},
     "output_type": "execute_result"
    }
   ],
   "source": [
    "P\n"
   ]
  },
  {
   "cell_type": "code",
   "execution_count": 44,
   "metadata": {
    "id": "pPXKq_I45l69"
   },
   "outputs": [],
   "source": [
    "def decay_schedule(init_value,min_value, decay_ratio,max_steps,log_start=-2,log_base=10):\n",
    "\n",
    "  decay_steps = int(max_steps*decay_ratio)\n",
    "  rem_steps = max_steps - decay_steps\n",
    "  values = np.logspace(log_start,0,decay_steps,base=log_base,endpoint=True)[::-1]\n",
    "  values=(values-values.min()) / (values.max()-values.min())\n",
    "\n",
    "  values=(init_value - min_value)*values + min_value\n",
    "  values = np.pad(values,(0,rem_steps),'edge')\n",
    "  return values\n"
   ]
  },
  {
   "cell_type": "code",
   "execution_count": 45,
   "metadata": {
    "id": "4q1JU1gF6ZsB"
   },
   "outputs": [],
   "source": [
    "def generate_trajectory(select_action, Q, epsilon, env, max_steps):\n",
    "    trajectory = []\n",
    "    state, _ = env.reset()\n",
    "    for _ in range(max_steps):\n",
    "        action = select_action(state, Q, epsilon)\n",
    "        next_state, reward, terminated, truncated, _ = env.step(action)\n",
    "        done = terminated or truncated\n",
    "        trajectory.append((state, action, reward, next_state, done))\n",
    "        if done:\n",
    "            break\n",
    "        state = next_state\n",
    "    return trajectory"
   ]
  },
  {
   "cell_type": "code",
   "execution_count": 46,
   "metadata": {
    "id": "IndKkb6B6dJ_"
   },
   "outputs": [],
   "source": [
    "def mc_control(env, gamma=0.99,\n",
    "               init_alpha=1.0, min_alpha=0.02, alpha_decay_ratio=0.5,\n",
    "               init_epsilon=1.0, min_epsilon=0.1, epsilon_decay_ratio=0.9,\n",
    "               n_episodes=9000, max_steps=200, first_visit=True):\n",
    "\n",
    "    nS = env.observation_space.n\n",
    "    nA = env.action_space.n\n",
    "\n",
    "    Q = np.zeros((nS, nA))\n",
    "    Q_track = np.zeros((n_episodes, nS, nA))\n",
    "    pi = np.zeros(nS, dtype=int)\n",
    "\n",
    "    def select_action(state, Q, epsilon):\n",
    "        if np.random.rand() > epsilon:\n",
    "            return np.argmax(Q[state])\n",
    "        else:\n",
    "            return np.random.randint(nA)\n",
    "\n",
    "    alphas = np.linspace(init_alpha, min_alpha, int(n_episodes * alpha_decay_ratio))\n",
    "    alphas = np.concatenate([alphas, np.full(n_episodes - len(alphas), min_alpha)])\n",
    "\n",
    "    epsilons = np.linspace(init_epsilon, min_epsilon, int(n_episodes * epsilon_decay_ratio))\n",
    "    epsilons = np.concatenate([epsilons, np.full(n_episodes - len(epsilons), min_epsilon)])\n",
    "\n",
    "    for e in tqdm(range(n_episodes), leave=False):\n",
    "        trajectory = generate_trajectory(select_action, Q, epsilons[e], env, max_steps)\n",
    "        visited = np.zeros((nS, nA), dtype=bool)\n",
    "        for t, (state, action, reward, _, _) in enumerate(trajectory):\n",
    "            if first_visit and visited[state][action]:\n",
    "                continue\n",
    "            visited[state][action] = True\n",
    "            n_steps = len(trajectory[t:])\n",
    "            discounts = np.array([gamma ** i for i in range(n_steps)])\n",
    "            rewards = [step[2] for step in trajectory[t:]]\n",
    "            G = np.sum(discounts * rewards)\n",
    "            Q[state][action] += alphas[e] * (G - Q[state][action])\n",
    "        Q_track[e] = Q\n",
    "\n",
    "    V = np.max(Q, axis=1)\n",
    "    pi = np.argmax(Q, axis=1)\n",
    "\n",
    "    return Q, V, pi"
   ]
  },
  {
   "cell_type": "code",
   "execution_count": 47,
   "metadata": {
    "id": "nF7gjmPs6A3-"
   },
   "outputs": [],
   "source": [
    "def print_policy(pi, P, action_symbols=['<', 'v', '>', '^'], n_cols=4, title='Policy:'):\n",
    "    print(title)\n",
    "    arrs = {k: v for k, v in enumerate(action_symbols)}\n",
    "    for s in range(len(P)):\n",
    "        print(\"| \", end=\"\")\n",
    "        if np.all([done for action in P[s].values() for (_, _, _, done) in action]):\n",
    "            print(\"\".rjust(9), end=\" \")\n",
    "        else:\n",
    "            a = pi[s]  # ✅ Use indexing, not function call\n",
    "            print(arrs[a].rjust(9), end=\" \")\n",
    "        if (s + 1) % n_cols == 0:\n",
    "            print(\"|\")\n"
   ]
  },
  {
   "cell_type": "code",
   "execution_count": 48,
   "metadata": {
    "colab": {
     "base_uri": "https://localhost:8080/"
    },
    "id": "zV_0dIWM9sg3",
    "outputId": "de00ac17-9a6c-4566-8b6c-1eef46acc8ef"
   },
   "outputs": [
    {
     "name": "stderr",
     "output_type": "stream",
     "text": [
      "                                                                                                                       "
     ]
    },
    {
     "name": "stdout",
     "output_type": "stream",
     "text": [
      "SHALINI K\n",
      " 212222240095\n",
      "\n",
      "Action-value function:\n",
      "| 00 [0.28 0.23 0.28 0.24] | 01 [0.14 0.15 0.11 0.25] | 02 [0.25 0.15 0.15 0.14] | 03 [0.06 0.05 0.03 0.15] |\n",
      "| 04 [0.29 0.24 0.2  0.19] |           | 06 [0.21 0.08 0.12 0.05] |           |\n",
      "| 08 [0.26 0.29 0.29 0.32] | 09 [0.29 0.42 0.31 0.24] | 10 [0.42 0.35 0.33 0.19] |           |\n",
      "|           | 13 [0.27 0.46 0.59 0.37] | 14 [0.45 0.76 0.68 0.56] |           |\n",
      "State-value function:\n",
      "| 00   0.28 | 01   0.25 | 02   0.25 | 03   0.15 |\n",
      "| 04   0.29 |           | 06   0.21 |           |\n",
      "| 08   0.32 | 09   0.42 | 10   0.42 |           |\n",
      "|           | 13   0.59 | 14   0.76 |           |\n",
      "Policy:\n",
      "|         < |         ^ |         < |         ^ |\n",
      "|         < |           |         < |           |\n",
      "|         ^ |         v |         < |           |\n",
      "|           |         > |         v |           |\n"
     ]
    },
    {
     "name": "stderr",
     "output_type": "stream",
     "text": [
      "\r"
     ]
    }
   ],
   "source": [
    "\n",
    "optimal_Q, optimal_V, optimal_pi = mc_control (env,n_episodes = 9000)\n",
    "print('SHALINI K\\n 212222240095\\n')\n",
    "print_state_value_function(optimal_Q, P, n_cols=4, prec=2, title='Action-value function:')\n",
    "print_state_value_function(optimal_V, P, n_cols=4, prec=2, title='State-value function:')\n",
    "print_policy(optimal_pi, P)"
   ]
  },
  {
   "cell_type": "code",
   "execution_count": 49,
   "metadata": {
    "colab": {
     "base_uri": "https://localhost:8080/"
    },
    "id": "Aokr0hVp6krJ",
    "outputId": "4d314ad4-5c51-4066-8daf-04cf1c9f4fb9"
   },
   "outputs": [
    {
     "name": "stdout",
     "output_type": "stream",
     "text": [
      "SHALINI K\n",
      "212222240095\n",
      "\n",
      "Reaches goal 100.00%. Obtains an average undiscounted return of 1.0000.\n"
     ]
    }
   ],
   "source": [
    "print('SHALINI K\\n212222240095\\n')\n",
    "print('Reaches goal {:.2f}%. Obtains an average undiscounted return of {:.4f}.'.format(\n",
    "    probability_success(env, optimal_pi, goal_state=15) * 100,\n",
    "    mean_return(env, optimal_pi)))\n"
   ]
  },
  {
   "cell_type": "code",
   "execution_count": null,
   "metadata": {
    "id": "A2Sgpym16xDA"
   },
   "outputs": [],
   "source": []
  }
 ],
 "metadata": {
  "colab": {
   "provenance": []
  },
  "kernelspec": {
   "display_name": "Python 3 (ipykernel)",
   "language": "python",
   "name": "python3"
  },
  "language_info": {
   "codemirror_mode": {
    "name": "ipython",
    "version": 3
   },
   "file_extension": ".py",
   "mimetype": "text/x-python",
   "name": "python",
   "nbconvert_exporter": "python",
   "pygments_lexer": "ipython3",
   "version": "3.12.3"
  }
 },
 "nbformat": 4,
 "nbformat_minor": 4
}
